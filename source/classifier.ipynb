{
 "cells": [
  {
   "cell_type": "markdown",
   "id": "89390774",
   "metadata": {},
   "source": [
    "# train a multinominal classifier"
   ]
  },
  {
   "cell_type": "markdown",
   "id": "d7e3daee",
   "metadata": {},
   "source": [
    "## load and process the data with gensim"
   ]
  },
  {
   "cell_type": "code",
   "execution_count": 2,
   "id": "0eded9e5",
   "metadata": {},
   "outputs": [],
   "source": [
    "import pandas as pd\n",
    "import numpy as np\n",
    "import gensim\n",
    "from sklearn.model_selection import train_test_split"
   ]
  },
  {
   "cell_type": "code",
   "execution_count": 10,
   "id": "58f24434",
   "metadata": {},
   "outputs": [
    {
     "data": {
      "text/html": [
       "<div>\n",
       "<style scoped>\n",
       "    .dataframe tbody tr th:only-of-type {\n",
       "        vertical-align: middle;\n",
       "    }\n",
       "\n",
       "    .dataframe tbody tr th {\n",
       "        vertical-align: top;\n",
       "    }\n",
       "\n",
       "    .dataframe thead th {\n",
       "        text-align: right;\n",
       "    }\n",
       "</style>\n",
       "<table border=\"1\" class=\"dataframe\">\n",
       "  <thead>\n",
       "    <tr style=\"text-align: right;\">\n",
       "      <th></th>\n",
       "      <th>experts</th>\n",
       "      <th>emotion</th>\n",
       "    </tr>\n",
       "  </thead>\n",
       "  <tbody>\n",
       "    <tr>\n",
       "      <th>0</th>\n",
       "      <td>» Aux vertus personnelles , il faut donc ajout...</td>\n",
       "      <td>love</td>\n",
       "    </tr>\n",
       "    <tr>\n",
       "      <th>1</th>\n",
       "      <td>C ' est précisément pour ce motif que les aman...</td>\n",
       "      <td>love</td>\n",
       "    </tr>\n",
       "    <tr>\n",
       "      <th>2</th>\n",
       "      <td>Un fait servira d ' exemple : Un jeune homme ,...</td>\n",
       "      <td>love</td>\n",
       "    </tr>\n",
       "    <tr>\n",
       "      <th>3</th>\n",
       "      <td>H .odoratissima Linden , ( très odorante ) .— ...</td>\n",
       "      <td>love</td>\n",
       "    </tr>\n",
       "    <tr>\n",
       "      <th>4</th>\n",
       "      <td>Parny en donne la mesure : Ici fut la Viergê M...</td>\n",
       "      <td>love</td>\n",
       "    </tr>\n",
       "  </tbody>\n",
       "</table>\n",
       "</div>"
      ],
      "text/plain": [
       "                                             experts emotion\n",
       "0  » Aux vertus personnelles , il faut donc ajout...    love\n",
       "1  C ' est précisément pour ce motif que les aman...    love\n",
       "2  Un fait servira d ' exemple : Un jeune homme ,...    love\n",
       "3  H .odoratissima Linden , ( très odorante ) .— ...    love\n",
       "4  Parny en donne la mesure : Ici fut la Viergê M...    love"
      ]
     },
     "execution_count": 10,
     "metadata": {},
     "output_type": "execute_result"
    }
   ],
   "source": [
    "data = pd.read_csv(\"example.csv\")\n",
    "data.head()"
   ]
  },
  {
   "cell_type": "code",
   "execution_count": 4,
   "id": "95892233",
   "metadata": {},
   "outputs": [
    {
     "data": {
      "text/plain": [
       "0    [aux, vertus, personnelles, il, faut, donc, aj...\n",
       "1    [est, précisément, pour, ce, motif, que, les, ...\n",
       "2    [un, fait, servira, exemple, un, jeune, homme,...\n",
       "3    [odoratissima, linden, très, odorante, lindcni...\n",
       "4    [parny, en, donne, la, mesure, ici, fut, la, v...\n",
       "Name: experts_clean, dtype: object"
      ]
     },
     "execution_count": 4,
     "metadata": {},
     "output_type": "execute_result"
    }
   ],
   "source": [
    "data[\"experts_clean\"] = data['experts'].apply(lambda x: gensim.utils.simple_preprocess(x))\n",
    "data[\"experts_clean\"].head()"
   ]
  }
 ],
 "metadata": {
  "kernelspec": {
   "display_name": "base",
   "language": "python",
   "name": "python3"
  },
  "language_info": {
   "codemirror_mode": {
    "name": "ipython",
    "version": 3
   },
   "file_extension": ".py",
   "mimetype": "text/x-python",
   "name": "python",
   "nbconvert_exporter": "python",
   "pygments_lexer": "ipython3",
   "version": "3.12.7"
  }
 },
 "nbformat": 4,
 "nbformat_minor": 5
}
